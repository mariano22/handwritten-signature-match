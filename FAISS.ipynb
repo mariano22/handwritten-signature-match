{
 "cells": [
  {
   "cell_type": "code",
   "execution_count": 1,
   "id": "8d1f410f-ecee-4d31-8c90-04be99419adb",
   "metadata": {},
   "outputs": [],
   "source": [
    "import glob\n",
    "import re\n",
    "import os\n",
    "import numpy as np\n",
    "from torch.utils.data import Dataset\n",
    "import torch\n",
    "import torchvision\n",
    "import torchvision.transforms.functional as TF\n",
    "import matplotlib.pyplot as plt\n",
    "import matplotlib.image as mpimg\n",
    "import cv2\n",
    "import PIL\n",
    "import torchvision.transforms as transforms\n",
    "from torchvision.transforms import v2\n",
    "import torch.nn as nn\n",
    "import torch.optim as optim\n",
    "\n",
    "\n",
    "\n",
    "from src.datasets import sigcomp2009, mnist, cedar\n",
    "from src.pair_dataset import *\n",
    "from src.visualization import *\n",
    "from src.tools import *\n",
    "from src.models import *\n",
    "from src.train import *"
   ]
  },
  {
   "cell_type": "code",
   "execution_count": 12,
   "id": "a10c2c52-bcda-4719-b822-59b0b5e69ea0",
   "metadata": {},
   "outputs": [],
   "source": [
    "import faiss\n",
    "import numpy as np\n",
    "\n",
    "# Generate some example data\n",
    "embeddings = np.random.rand(60000, 128).astype('float32')  # 1000 items, 128-dimensional\n"
   ]
  },
  {
   "cell_type": "code",
   "execution_count": 13,
   "id": "980d990d-9433-4013-8687-a79ef8a3cfc0",
   "metadata": {},
   "outputs": [
    {
     "data": {
      "text/plain": [
       "(60000, 128)"
      ]
     },
     "execution_count": 13,
     "metadata": {},
     "output_type": "execute_result"
    }
   ],
   "source": [
    "embeddings.shape"
   ]
  },
  {
   "cell_type": "code",
   "execution_count": 14,
   "id": "6bd5c0a8-1d33-4914-b1f6-0cf2db8bbfb2",
   "metadata": {},
   "outputs": [],
   "source": [
    "# Initialize the `IndexIVFFlat`\n",
    "dimension = embeddings.shape[1]\n",
    "nlist = 200  # number of clusters, set according to dataset size (e.g., sqrt(n) is a common choice)\n",
    "quantizer = faiss.IndexFlatL2(dimension)  # the base quantizer\n",
    "index = faiss.IndexIVFFlat(quantizer, dimension, nlist, faiss.METRIC_L2)"
   ]
  },
  {
   "cell_type": "code",
   "execution_count": 15,
   "id": "b66001f8-3d58-450c-a9d8-3fb3fde537e8",
   "metadata": {},
   "outputs": [],
   "source": [
    "# Train the index on a sample of data\n",
    "index.train(embeddings)  # required before adding vectors to an IVFFlat index\n",
    "index.add(embeddings)    # add embeddings to the index\n"
   ]
  },
  {
   "cell_type": "code",
   "execution_count": 16,
   "id": "5ec73ccd-8aa6-41f3-b22c-12cbfa670f0f",
   "metadata": {},
   "outputs": [
    {
     "name": "stdout",
     "output_type": "stream",
     "text": [
      "Indices of Neighbors: [[ 9808 47029 47531 37302  9020]]\n",
      "Distances to Neighbors: [[12.514496 14.070881 14.425043 14.658357 14.849606]]\n"
     ]
    }
   ],
   "source": [
    "# Query the index\n",
    "query_vector = np.random.rand(128).astype('float32')  # 128-dimensional query vector\n",
    "k = 5  # number of nearest neighbors\n",
    "index.nprobe = 10  # number of clusters to search, trade-off between speed and accuracy\n",
    "\n",
    "# Search for k nearest neighbors\n",
    "distances, indices = index.search(np.array([query_vector]), k)\n",
    "\n",
    "# Print results\n",
    "print(\"Indices of Neighbors:\", indices)\n",
    "print(\"Distances to Neighbors:\", distances)"
   ]
  },
  {
   "cell_type": "code",
   "execution_count": null,
   "id": "4634d33c-d56a-42da-b989-82c6c6b71244",
   "metadata": {},
   "outputs": [],
   "source": []
  },
  {
   "cell_type": "code",
   "execution_count": null,
   "id": "7f180916-09f9-406b-94a6-4c6bc72300cf",
   "metadata": {},
   "outputs": [],
   "source": []
  }
 ],
 "metadata": {
  "kernelspec": {
   "display_name": "ml",
   "language": "python",
   "name": "ml"
  },
  "language_info": {
   "codemirror_mode": {
    "name": "ipython",
    "version": 3
   },
   "file_extension": ".py",
   "mimetype": "text/x-python",
   "name": "python",
   "nbconvert_exporter": "python",
   "pygments_lexer": "ipython3",
   "version": "3.12.3"
  }
 },
 "nbformat": 4,
 "nbformat_minor": 5
}
